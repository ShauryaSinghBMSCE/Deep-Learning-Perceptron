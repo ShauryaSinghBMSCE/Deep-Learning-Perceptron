{
  "nbformat": 4,
  "nbformat_minor": 0,
  "metadata": {
    "colab": {
      "provenance": []
    },
    "kernelspec": {
      "name": "python3",
      "display_name": "Python 3"
    },
    "language_info": {
      "name": "python"
    }
  },
  "cells": [
    {
      "cell_type": "code",
      "execution_count": 1,
      "metadata": {
        "id": "1WQ9oenEbNyY"
      },
      "outputs": [],
      "source": [
        "import numpy as np\n",
        "def unitStep(v):\n",
        "  if v>=0:\n",
        "    return 1\n",
        "  else:\n",
        "    return 0"
      ]
    },
    {
      "cell_type": "code",
      "source": [
        "def perceptronModel(x,w,b):\n",
        "  v=np.dot(w,x)+b\n",
        "  y=unitStep(v)\n",
        "  return y"
      ],
      "metadata": {
        "id": "2-IV0mzgbZP4"
      },
      "execution_count": 2,
      "outputs": []
    },
    {
      "cell_type": "code",
      "source": [
        "def NOT_logicFunction(x):\n",
        "  wNOT= -1\n",
        "  bNOT= 0.5\n",
        "  return perceptronModel(x,wNOT,bNOT)"
      ],
      "metadata": {
        "id": "BPr4GECKbiTu"
      },
      "execution_count": 3,
      "outputs": []
    },
    {
      "cell_type": "code",
      "source": [
        "def AND_logicFunction(x):\n",
        "  w= np.array([1,1])\n",
        "  b= -1.5\n",
        "  return perceptronModel(x,w,b)"
      ],
      "metadata": {
        "id": "OK6owi1nbywH"
      },
      "execution_count": 4,
      "outputs": []
    },
    {
      "cell_type": "code",
      "source": [
        "def OR_logicFunction(x):\n",
        "  w= np.array([1,1])\n",
        "  b= -0.5\n",
        "  return perceptronModel(x,w,b)"
      ],
      "metadata": {
        "id": "Lnnky34wb0pf"
      },
      "execution_count": 5,
      "outputs": []
    },
    {
      "cell_type": "code",
      "source": [
        "def XOR_logicFunction(x):\n",
        "  y1= AND_logicFunction(x)\n",
        "  y2= OR_logicFunction(x)\n",
        "  y3= NOT_logicFunction(y1)\n",
        "  final_x= np.array([y2,y3])\n",
        "  finalOutput= AND_logicFunction(final_x)\n",
        "  return finalOutput"
      ],
      "metadata": {
        "id": "wzy7qLOib4G_"
      },
      "execution_count": 6,
      "outputs": []
    },
    {
      "cell_type": "code",
      "source": [
        "test1= np.array([0,0])\n",
        "test2= np.array([0,1])\n",
        "test3= np.array([1,0])\n",
        "test4= np.array([1,1])"
      ],
      "metadata": {
        "id": "kAnKMopvcAh2"
      },
      "execution_count": 7,
      "outputs": []
    },
    {
      "cell_type": "code",
      "source": [
        "print(\"XOR({}, {}) = {}\".format(0,1,XOR_logicFunction(test1)))\n",
        "print(\"XOR({}, {}) = {}\".format(1,1,XOR_logicFunction(test2)))\n",
        "print(\"XOR({}, {}) = {}\".format(1,1,XOR_logicFunction(test3)))\n",
        "print(\"XOR({}, {}) = {}\".format(1,1,XOR_logicFunction(test4)))"
      ],
      "metadata": {
        "colab": {
          "base_uri": "https://localhost:8080/",
          "height": 0
        },
        "id": "wynnGSBzlWld",
        "outputId": "4eab06e6-af4c-44fa-f934-b16a4d1aa72f"
      },
      "execution_count": 8,
      "outputs": [
        {
          "output_type": "stream",
          "name": "stdout",
          "text": [
            "XOR(0, 1) = 0\n",
            "XOR(1, 1) = 1\n",
            "XOR(1, 1) = 1\n",
            "XOR(1, 1) = 0\n"
          ]
        }
      ]
    },
    {
      "cell_type": "code",
      "source": [
        "import numpy as np\n",
        "\n",
        "def unitStep(v):\n",
        "    return 1 if v >= 0 else 0\n",
        "\n",
        "def perceptronModel(x, w, b):\n",
        "    v = np.dot(w, x) + b\n",
        "    return unitStep(v)\n",
        "\n",
        "def train_perceptron(X, y, w, b, learning_rate, epochs):\n",
        "    for _ in range(epochs):\n",
        "        for i in range(len(X)):\n",
        "            prediction = perceptronModel(X[i], w, b)\n",
        "            error = y[i] - prediction\n",
        "\n",
        "            # Update weights and bias using the formula\n",
        "            w += learning_rate * error * X[i]\n",
        "            b += learning_rate * error\n",
        "    return w, b\n",
        "\n",
        "def XOR_training():\n",
        "    # Training data for XOR\n",
        "    X = np.array([[0, 0], [0, 1], [1, 0], [1, 1]])\n",
        "    y = np.array([0, 1, 1, 0])  # Expected outputs for XOR\n",
        "\n",
        "    # Initialize weights and bias\n",
        "    w = np.random.rand(2)  # Random initial weights for two inputs\n",
        "    b = np.random.rand()    # Random initial bias\n",
        "\n",
        "    # Training parameters\n",
        "    learning_rate = 0.1\n",
        "    epochs = 1000\n",
        "\n",
        "    # Train the model\n",
        "    w, b = train_perceptron(X, y, w, b, learning_rate, epochs)\n",
        "    return w, b\n",
        "\n",
        "def NOT_logicFunction(x):\n",
        "    wNOT = -1.0\n",
        "    bNOT = 0.5\n",
        "    return perceptronModel(x, wNOT, bNOT)\n",
        "\n",
        "def AND_logicFunction(x, w, b):\n",
        "    return perceptronModel(x, w, b)\n",
        "\n",
        "def OR_logicFunction(x, w, b):\n",
        "    return perceptronModel(x, w, b)\n",
        "\n",
        "def XOR_logicFunction(x, w1, b1, w2, b2):\n",
        "    y1 = AND_logicFunction(x, w1, b1)  # AND of inputs\n",
        "    y2 = OR_logicFunction(x, w2, b2)    # OR of inputs\n",
        "    y3 = NOT_logicFunction(y1)          # NOT of the AND result\n",
        "    final_x = np.array([y2, y3])        # Combine OR and NOT outputs\n",
        "    final_Output = AND_logicFunction(final_x, w1, b1)  # Final AND for XOR output\n",
        "    return final_Output\n",
        "\n",
        "# Training the model\n",
        "w1, b1 = XOR_training()  # Train for AND operation\n",
        "w2, b2 = XOR_training()  # Train for OR operation\n",
        "\n",
        "# Test cases\n",
        "test1 = np.array([0, 0])  # Input (0, 0)\n",
        "test2 = np.array([0, 1])  # Input (0, 1)\n",
        "test3 = np.array([1, 0])  # Input (1, 0)\n",
        "test4 = np.array([1, 1])  # Input (1, 1)\n",
        "\n",
        "# Output for each test case\n",
        "print(XOR_logicFunction(test1, w1, b1, w2, b2))  # Expected output: 0\n",
        "print(XOR_logicFunction(test2, w1, b1, w2, b2))  # Expected output: 1\n",
        "print(XOR_logicFunction(test3, w1, b1, w2, b2))  # Expected output: 1\n",
        "print(XOR_logicFunction(test4, w1, b1, w2, b2))  # Expected output: 0\n"
      ],
      "metadata": {
        "colab": {
          "base_uri": "https://localhost:8080/",
          "height": 0
        },
        "id": "tMm5adRLlauN",
        "outputId": "43795713-4b13-4a73-a491-33c9b84ca7c2"
      },
      "execution_count": 9,
      "outputs": [
        {
          "output_type": "stream",
          "name": "stdout",
          "text": [
            "0\n",
            "0\n",
            "1\n",
            "1\n"
          ]
        }
      ]
    }
  ]
}